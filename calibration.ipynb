{
 "metadata": {
  "language_info": {
   "codemirror_mode": {
    "name": "ipython",
    "version": 3
   },
   "file_extension": ".py",
   "mimetype": "text/x-python",
   "name": "python",
   "nbconvert_exporter": "python",
   "pygments_lexer": "ipython3",
   "version": "3.8.5-final"
  },
  "orig_nbformat": 2,
  "kernelspec": {
   "name": "python38564bitmyenv8177909c113c483aa449038c9ae36dfd",
   "display_name": "Python 3.8.5 64-bit ('myenv')"
  }
 },
 "nbformat": 4,
 "nbformat_minor": 2,
 "cells": [
  {
   "cell_type": "code",
   "execution_count": 6,
   "metadata": {
    "tags": []
   },
   "outputs": [
    {
     "output_type": "stream",
     "name": "stdout",
     "text": "[[0. 0. 0.]\n [1. 0. 0.]\n [2. 0. 0.]\n [3. 0. 0.]\n [4. 0. 0.]\n [5. 0. 0.]\n [6. 0. 0.]\n [0. 1. 0.]\n [1. 1. 0.]\n [2. 1. 0.]\n [3. 1. 0.]\n [4. 1. 0.]\n [5. 1. 0.]\n [6. 1. 0.]\n [0. 2. 0.]\n [1. 2. 0.]\n [2. 2. 0.]\n [3. 2. 0.]\n [4. 2. 0.]\n [5. 2. 0.]\n [6. 2. 0.]\n [0. 3. 0.]\n [1. 3. 0.]\n [2. 3. 0.]\n [3. 3. 0.]\n [4. 3. 0.]\n [5. 3. 0.]\n [6. 3. 0.]\n [0. 4. 0.]\n [1. 4. 0.]\n [2. 4. 0.]\n [3. 4. 0.]\n [4. 4. 0.]\n [5. 4. 0.]\n [6. 4. 0.]\n [0. 5. 0.]\n [1. 5. 0.]\n [2. 5. 0.]\n [3. 5. 0.]\n [4. 5. 0.]\n [5. 5. 0.]\n [6. 5. 0.]\n [0. 6. 0.]\n [1. 6. 0.]\n [2. 6. 0.]\n [3. 6. 0.]\n [4. 6. 0.]\n [5. 6. 0.]\n [6. 6. 0.]]\n16  of correct images from  47\n"
    },
    {
     "output_type": "execute_result",
     "data": {
      "text/plain": "512"
     },
     "metadata": {},
     "execution_count": 6
    }
   ],
   "source": [
    "import numpy as np\n",
    "import cv2\n",
    "import glob\n",
    "\n",
    "gridDim = 7\n",
    "# termination criteria\n",
    "criteria = (cv2.TERM_CRITERIA_EPS + cv2.TERM_CRITERIA_MAX_ITER, 30, 0.001)\n",
    "\n",
    "# prepare object points, like (0,0,0), (1,0,0), (2,0,0) ....,(6,5,0)\n",
    "objp = np.zeros((gridDim*gridDim,3), np.float32)\n",
    "\n",
    "objp[:,:2] = np.mgrid[0:gridDim,0:gridDim].T.reshape(-1,2)\n",
    "\n",
    "\n",
    "'''\n",
    "cell size is 22 millimeters\n",
    "so scaling a matrix in order\n",
    "to have a millimeter values \n",
    "of intrinsic and extrinsic\n",
    " parameters\n",
    "'''\n",
    "#objp *= 22\n",
    "\n",
    "print(objp)\n",
    "\n",
    "# Arrays to store object points and image points from all the images.\n",
    "objpoints = [] # 3d point in real world space\n",
    "imgpoints = [] # 2d points in image plane.\n",
    "\n",
    "images = glob.glob('/home/wil/calibrationPhotos/*.jpg')\n",
    "counter = 0\n",
    "for fname in images:\n",
    "    img = cv2.imread(fname)\n",
    "    gray = cv2.cvtColor(img,cv2.COLOR_BGR2GRAY)\n",
    "\n",
    "    # Find the chess board corners\n",
    "    ret, corners = cv2.findChessboardCorners(gray, (gridDim,gridDim),None)\n",
    "\n",
    "    # If found, add object points, image points (after refining them)\n",
    "    if ret == True:\n",
    "        counter += 1\n",
    "        objpoints.append(objp)\n",
    "\n",
    "        corners2 = cv2.cornerSubPix(gray,corners,(11,11),(-1,-1),criteria)\n",
    "        imgpoints.append(corners2)\n",
    "\n",
    "        # Draw and display the corners\n",
    "        img = cv2.drawChessboardCorners(img, (gridDim,gridDim), corners2,ret)\n",
    "        img = cv2.resize(img, (540, 960))  \n",
    "        cv2.imshow(fname,img)\n",
    "        cv2.waitKey(500)\n",
    "\n",
    "cv2.destroyAllWindows()\n",
    "print(counter, \" of correct images from \", len(images))\n",
    "\n",
    "import os\n",
    "duration = 10  # seconds\n",
    "freq = 440  # Hz\n",
    "os.system('play -nq -t alsa synth {} sine {}'.format(duration, freq))"
   ]
  },
  {
   "cell_type": "code",
   "execution_count": 2,
   "metadata": {
    "tags": []
   },
   "outputs": [
    {
     "output_type": "stream",
     "name": "stdout",
     "text": "2.191732377536117\n[[3.04172433e+03 0.00000000e+00 1.17949297e+03]\n [0.00000000e+00 3.09282061e+03 2.28600971e+03]\n [0.00000000e+00 0.00000000e+00 1.00000000e+00]]\n[[ 0.02941472  0.23838415  0.0433189   0.00735723 -0.74572005]]\n[array([[ 0.0503803 ],\n       [-0.15939099],\n       [ 0.57936423]]), array([[-0.56273432],\n       [-0.36177075],\n       [-0.17166943]]), array([[-0.51996806],\n       [-0.25164854],\n       [ 0.25905397]]), array([[ 0.35783542],\n       [-0.10949941],\n       [ 0.79123153]]), array([[-0.6709151 ],\n       [-0.47706486],\n       [ 0.26414602]]), array([[-0.78465809],\n       [ 0.57404156],\n       [ 2.00689749]]), array([[-0.57877225],\n       [ 0.55730629],\n       [ 1.45452093]]), array([[ 0.2190016 ],\n       [-0.31219439],\n       [ 1.15249299]]), array([[-0.85244373],\n       [-0.47267052],\n       [-0.15199807]]), array([[-0.22702911],\n       [-0.04092067],\n       [ 0.69451615]]), array([[-0.3399079 ],\n       [ 0.02570317],\n       [ 0.59511278]]), array([[-0.31885523],\n       [-0.10492302],\n       [ 0.9350118 ]]), array([[0.55683914],\n       [1.0170481 ],\n       [1.79438418]]), array([[-0.70271717],\n       [ 0.03551915],\n       [ 0.58319201]]), array([[ 0.02095743],\n       [-0.09706466],\n       [ 0.27328449]]), array([[ 0.31636572],\n       [-0.40626822],\n       [ 1.11515901]])]\n[array([[   6.73551379],\n       [-173.90481059],\n       [ 527.98507954]]), array([[-92.77571271],\n       [-88.88734272],\n       [584.88745562]]), array([[ -33.74107077],\n       [-166.33043589],\n       [ 580.39708761]]), array([[  29.9279924 ],\n       [-163.11382147],\n       [ 498.84797497]]), array([[ -75.95966357],\n       [-103.61564221],\n       [ 603.37428877]]), array([[ 88.5691389 ],\n       [-78.48814584],\n       [654.12184246]]), array([[  46.86855487],\n       [-158.87836088],\n       [ 648.15389585]]), array([[-44.63734907],\n       [ 30.67439536],\n       [613.54803275]]), array([[ -69.25344534],\n       [-120.39081614],\n       [ 650.0005457 ]]), array([[   8.26985102],\n       [-174.554766  ],\n       [ 612.5804485 ]]), array([[  -9.39462942],\n       [-167.6959162 ],\n       [ 615.50261055]]), array([[  27.61976421],\n       [-129.59580675],\n       [ 587.27106576]]), array([[ 110.83237614],\n       [-107.3268483 ],\n       [ 435.58352931]]), array([[-17.53883754],\n       [-73.82296698],\n       [632.38220368]]), array([[ -37.7962446 ],\n       [-194.47236505],\n       [ 541.82132071]]), array([[  57.59566092],\n       [-177.01029653],\n       [ 543.93044186]])]\n"
    }
   ],
   "source": [
    "ret, mtx, dist, rvecs, tvecs = cv2.calibrateCamera(objpoints, imgpoints, gray.shape[::-1],None,None)\n",
    "print(ret)\n",
    "print(mtx)\n",
    "print(dist)\n",
    "print(rvecs)\n",
    "print(tvecs)\n"
   ]
  },
  {
   "cell_type": "code",
   "execution_count": 5,
   "metadata": {
    "tags": []
   },
   "outputs": [
    {
     "output_type": "stream",
     "name": "stdout",
     "text": "3\n"
    }
   ],
   "source": [
    "print(len(rvecs[0]))"
   ]
  },
  {
   "cell_type": "code",
   "execution_count": 7,
   "metadata": {
    "tags": []
   },
   "outputs": [
    {
     "output_type": "stream",
     "name": "stdout",
     "text": "2.1917323775361135\n[[3.04172433e+03 0.00000000e+00 1.17949297e+03]\n [0.00000000e+00 3.09282061e+03 2.28600970e+03]\n [0.00000000e+00 0.00000000e+00 1.00000000e+00]]\n[[ 0.02941471  0.23838426  0.0433189   0.00735723 -0.74572031]]\n[array([[ 0.0503803 ],\n       [-0.15939099],\n       [ 0.57936423]]), array([[-0.56273432],\n       [-0.36177075],\n       [-0.17166943]]), array([[-0.51996806],\n       [-0.25164854],\n       [ 0.25905397]]), array([[ 0.35783542],\n       [-0.10949941],\n       [ 0.79123153]]), array([[-0.6709151 ],\n       [-0.47706486],\n       [ 0.26414602]]), array([[-0.78465809],\n       [ 0.57404156],\n       [ 2.00689749]]), array([[-0.57877225],\n       [ 0.5573063 ],\n       [ 1.45452093]]), array([[ 0.2190016 ],\n       [-0.31219439],\n       [ 1.15249299]]), array([[-0.85244373],\n       [-0.47267052],\n       [-0.15199807]]), array([[-0.22702911],\n       [-0.04092067],\n       [ 0.69451615]]), array([[-0.3399079 ],\n       [ 0.02570317],\n       [ 0.59511278]]), array([[-0.31885523],\n       [-0.10492301],\n       [ 0.9350118 ]]), array([[0.55683914],\n       [1.0170481 ],\n       [1.79438418]]), array([[-0.70271717],\n       [ 0.03551915],\n       [ 0.58319201]]), array([[ 0.02095743],\n       [-0.09706465],\n       [ 0.2732845 ]]), array([[ 0.31636572],\n       [-0.40626822],\n       [ 1.11515901]])]\n[array([[ 0.30615972],\n       [-7.90476405],\n       [23.99932184]]), array([[-4.21707785],\n       [-4.04033369],\n       [26.58579347]]), array([[-1.53368504],\n       [-7.56047429],\n       [26.38168584]]), array([[ 1.36036329],\n       [-7.41426455],\n       [22.67490797]]), array([[-3.45271198],\n       [-4.70980185],\n       [27.42610407]]), array([[ 4.02586995],\n       [-3.56764291],\n       [29.73281105]]), array([[ 2.13038886],\n       [-7.2217436 ],\n       [29.46154075]]), array([[-2.02897041],\n       [ 1.39429077],\n       [27.88854696]]), array([[-3.14788388],\n       [-5.47230975],\n       [29.54547938]]), array([[ 0.37590232],\n       [-7.93430747],\n       [27.84456588]]), array([[-0.42702861],\n       [-7.62254157],\n       [27.97739142]]), array([[ 1.25544383],\n       [-5.89071842],\n       [26.69413939]]), array([[ 5.03783528],\n       [-4.87849305],\n       [19.79925136]]), array([[-0.79721989],\n       [-3.35558933],\n       [28.74464565]]), array([[-1.71801112],\n       [-8.83965289],\n       [24.6282419 ]]), array([[ 2.61798459],\n       [-8.0459225 ],\n       [24.72411102]])]\n"
    }
   ],
   "source": [
    "ret, mtx, dist, rvecs, tvecs = cv2.calibrateCamera(objpoints, imgpoints, gray.shape[::-1],None,None)\n",
    "print(ret)\n",
    "print(mtx)\n",
    "print(dist)\n",
    "print(rvecs)\n",
    "print(tvecs)"
   ]
  },
  {
   "cell_type": "code",
   "execution_count": null,
   "metadata": {},
   "outputs": [],
   "source": [
    "img = cv2.imread('left12.jpg')\n",
    "h,  w = img.shape[:2]\n",
    "newcameramtx, roi=cv2.getOptimalNewCameraMatrix(mtx,dist,(w,h),1,(w,h))\n"
   ]
  },
  {
   "cell_type": "code",
   "execution_count": null,
   "metadata": {},
   "outputs": [],
   "source": [
    "# undistort\n",
    "dst = cv2.undistort(img, mtx, dist, None, newcameramtx)\n",
    "\n",
    "# crop the image\n",
    "x,y,w,h = roi\n",
    "dst = dst[y:y+h, x:x+w]\n",
    "cv2.imwrite('calibresult.png',dst)"
   ]
  }
 ]
}